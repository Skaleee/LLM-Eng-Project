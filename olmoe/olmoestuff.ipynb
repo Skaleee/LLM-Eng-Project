{
 "cells": [
  {
   "cell_type": "code",
   "execution_count": 1,
   "id": "36e77c8f",
   "metadata": {},
   "outputs": [
    {
     "name": "stdout",
     "output_type": "stream",
     "text": [
      "🚨 `use_probabilistic_routing` is part of OlmoeModel.forward's signature, but not documented. Make sure to add it to the docstring of the function in X:\\Alles Unwichtige\\Uni rub\\fächer\\Master\\Semester 4 SS25\\Engineering for Large Language Models\\transformers\\src\\transformers\\models\\olmoe\\modeling_olmoe.py.\n",
      "🚨 `prob_routing_temp` is part of OlmoeModel.forward's signature, but not documented. Make sure to add it to the docstring of the function in X:\\Alles Unwichtige\\Uni rub\\fächer\\Master\\Semester 4 SS25\\Engineering for Large Language Models\\transformers\\src\\transformers\\models\\olmoe\\modeling_olmoe.py.\n",
      "🚨 `use_probabilistic_routing` is part of OlmoeForCausalLM.forward's signature, but not documented. Make sure to add it to the docstring of the function in X:\\Alles Unwichtige\\Uni rub\\fächer\\Master\\Semester 4 SS25\\Engineering for Large Language Models\\transformers\\src\\transformers\\models\\olmoe\\modeling_olmoe.py.\n",
      "🚨 `prob_routing_temp` is part of OlmoeForCausalLM.forward's signature, but not documented. Make sure to add it to the docstring of the function in X:\\Alles Unwichtige\\Uni rub\\fächer\\Master\\Semester 4 SS25\\Engineering for Large Language Models\\transformers\\src\\transformers\\models\\olmoe\\modeling_olmoe.py.\n",
      "\n",
      "\u001b[32mINFO\u001b[0m  ENV: Auto setting PYTORCH_CUDA_ALLOC_CONF='expandable_segments:True' for memory saving.\n",
      "\u001b[32mINFO\u001b[0m  ENV: Auto setting CUDA_DEVICE_ORDER=PCI_BUS_ID for correctness.          \n",
      "\u001b[32mINFO\u001b[0m   Kernel: Auto-selection: adding candidate `TritonV2QuantLinear`          \n"
     ]
    },
    {
     "name": "stderr",
     "output_type": "stream",
     "text": [
      "`loss_type=None` was set in the config but it is unrecognised.Using the default loss: `ForCausalLMLoss`.\n",
      "x:\\Alles Unwichtige\\Uni rub\\fächer\\Master\\Semester 4 SS25\\Engineering for Large Language Models\\LLM-Eng-Project\\.venv\\Lib\\site-packages\\accelerate\\utils\\modeling.py:808: UserWarning: expandable_segments not supported on this platform (Triggered internally at C:\\actions-runner\\_work\\pytorch\\pytorch\\pytorch\\c10/cuda/CUDAAllocatorConfig.h:28.)\n",
      "  _ = torch.tensor([0], device=i)\n",
      "INFO:accelerate.utils.modeling:We will use 90% of the memory on device 0 for storing the model, and 10% for the buffer to avoid OOM. You can set `max_memory` in to a higher value to use more memory (at your own risk).\n"
     ]
    },
    {
     "name": "stdout",
     "output_type": "stream",
     "text": [
      "\u001b[32mINFO\u001b[0m  Format: Converting `checkpoint_format` from `gptq` to internal `gptq_v2`.\n",
      "\u001b[32mINFO\u001b[0m  Format: Converting GPTQ v1 to v2                                         \n",
      "\u001b[32mINFO\u001b[0m  Format: Conversion complete: 0.0802152156829834s                         \n",
      "\u001b[32mINFO\u001b[0m  Optimize: `TritonV2QuantLinear` compilation triggered.                   \n"
     ]
    },
    {
     "data": {
      "text/plain": [
       "OlmoeForCausalLM(\n",
       "  (model): OlmoeModel(\n",
       "    (embed_tokens): Embedding(50304, 2048, padding_idx=1)\n",
       "    (layers): ModuleList(\n",
       "      (0-15): 16 x OlmoeDecoderLayer(\n",
       "        (self_attn): OlmoeSdpaAttention(\n",
       "          (q_norm): OlmoeRMSNorm((2048,), eps=1e-05)\n",
       "          (k_norm): OlmoeRMSNorm((2048,), eps=1e-05)\n",
       "          (k_proj): TritonV2QuantLinear()\n",
       "          (o_proj): TritonV2QuantLinear()\n",
       "          (q_proj): TritonV2QuantLinear()\n",
       "          (v_proj): TritonV2QuantLinear()\n",
       "        )\n",
       "        (mlp): OlmoeSparseMoeBlock(\n",
       "          (experts): ModuleList(\n",
       "            (0-63): 64 x OlmoeMLP(\n",
       "              (act_fn): SiLU()\n",
       "              (down_proj): TritonV2QuantLinear()\n",
       "              (gate_proj): TritonV2QuantLinear()\n",
       "              (up_proj): TritonV2QuantLinear()\n",
       "            )\n",
       "          )\n",
       "          (gate): TritonV2QuantLinear()\n",
       "        )\n",
       "        (input_layernorm): OlmoeRMSNorm((2048,), eps=1e-05)\n",
       "        (post_attention_layernorm): OlmoeRMSNorm((2048,), eps=1e-05)\n",
       "      )\n",
       "    )\n",
       "    (norm): OlmoeRMSNorm((2048,), eps=1e-05)\n",
       "    (rotary_emb): OlmoeRotaryEmbedding()\n",
       "  )\n",
       "  (lm_head): Linear(in_features=2048, out_features=50304, bias=False)\n",
       ")"
      ]
     },
     "execution_count": 1,
     "metadata": {},
     "output_type": "execute_result"
    }
   ],
   "source": [
    "import torch\n",
    "from transformers import AutoTokenizer,OlmoeForCausalLM, OlmoeConfig\n",
    "torch.set_printoptions(profile='simple')\n",
    "model_path = \"shuyuej/OLMoE-1B-7B-0924-GPTQ\"#\"allenai/OLMoE-1B-7B-0924\"\n",
    "config = OlmoeConfig.from_pretrained(model_path,num_experts_per_tok=4)\n",
    "model = OlmoeForCausalLM.from_pretrained(model_path,config=config,\n",
    "                                         device_map=\"auto\",\n",
    "                                         torch_dtype=torch.float16,\n",
    "                                         )\n",
    "tokenizer = AutoTokenizer.from_pretrained(model_path)\n",
    "model.eval()"
   ]
  },
  {
   "cell_type": "code",
   "execution_count": null,
   "id": "16d155f6",
   "metadata": {},
   "outputs": [
    {
     "name": "stdout",
     "output_type": "stream",
     "text": [
      "A short fantasy story with children: and and and and and and and and and and and and and and and and and and and and\n"
     ]
    }
   ],
   "source": [
    "if \"inputs\" in globals():\n",
    "    del inputs\n",
    "inputs = tokenizer(\"A short fantasy story with children:\", return_tensors=\"pt\").to(model.device)\n",
    "\n",
    "# prob_routing_temp cannot be lower than about 0.0001. \n",
    "# 0.00001 causes cuda assert\n",
    "\n",
    "with torch.no_grad():\n",
    "    outputs = model.generate(\n",
    "        **inputs,\n",
    "        max_new_tokens=20,\n",
    "        use_probabilistic_routing=True,\n",
    "        prob_routing_temp=.0001,\n",
    "        #output_router_logits=True,\n",
    "        #return_dict=True\n",
    "    )\n",
    "\n",
    "print(tokenizer.decode(outputs[0]))"
   ]
  }
 ],
 "metadata": {
  "kernelspec": {
   "display_name": ".venv",
   "language": "python",
   "name": "python3"
  },
  "language_info": {
   "codemirror_mode": {
    "name": "ipython",
    "version": 3
   },
   "file_extension": ".py",
   "mimetype": "text/x-python",
   "name": "python",
   "nbconvert_exporter": "python",
   "pygments_lexer": "ipython3",
   "version": "3.12.3"
  }
 },
 "nbformat": 4,
 "nbformat_minor": 5
}
